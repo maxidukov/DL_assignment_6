{
 "cells": [
  {
   "cell_type": "markdown",
   "id": "2c03d034",
   "metadata": {},
   "source": [
    "# 1. Make necessary imports"
   ]
  },
  {
   "cell_type": "code",
   "execution_count": 1,
   "id": "c66fc177",
   "metadata": {},
   "outputs": [],
   "source": [
    "import random\n",
    "import string\n",
    "\n",
    "import torch\n",
    "import torch.nn as nn\n",
    "from torch.utils.data import Dataset, DataLoader\n",
    "\n",
    "import time  # для оценки времени\n",
    "\n",
    "import gc\n",
    "\n",
    "import html\n",
    "from collections import defaultdict\n",
    "import matplotlib.pyplot as plt"
   ]
  },
  {
   "cell_type": "markdown",
   "id": "0365702f",
   "metadata": {},
   "source": [
    "# 2. Define variables, classes and functions necessary for making datasets"
   ]
  },
  {
   "cell_type": "markdown",
   "id": "afe54250",
   "metadata": {},
   "source": [
    "## 2.1 Create two versions of alphabet string: one containing letters only and an extended one with punctuation marks"
   ]
  },
  {
   "cell_type": "markdown",
   "id": "f603e997",
   "metadata": {},
   "source": [
    "__We'll use the letter-only alphabet in our Caesar cipher encoding function, while the extended alphabet will be used to convert _all_ the symbols to integers__"
   ]
  },
  {
   "cell_type": "code",
   "execution_count": 2,
   "id": "49121f84",
   "metadata": {},
   "outputs": [
    {
     "name": "stdout",
     "output_type": "stream",
     "text": [
      "АБВГДЕЖЗИЙКЛМНОПРСТУФХЦЧШЩЪЫЬЭЮЯабвгдеёжзийклмнопрстуфхцчшщъыьэюя\n",
      "АБВГДЕЖЗИЙКЛМНОПРСТУФХЦЧШЩЪЫЬЭЮЯабвгдеёжзийклмнопрстуфхцчшщъыьэюя .,;:!?'\"«»–-—()\n"
     ]
    }
   ],
   "source": [
    "azb = ''.join([chr(i) for i in range(ord('А'),ord('А')+38)] +\n",
    "              [chr(ord('А')+65)] +\n",
    "              [chr(i) for i in range(ord('А')+38,ord('А')+64)])\n",
    "print(azb)\n",
    "azb_extra = \" .,;:!?\\'\\\"«»–-—()\"\n",
    "print(azb + azb_extra)"
   ]
  },
  {
   "cell_type": "markdown",
   "id": "e8edf4fc",
   "metadata": {},
   "source": [
    "## 2.2 Based on either alphabet, create two dictionaries"
   ]
  },
  {
   "cell_type": "code",
   "execution_count": 3,
   "id": "22e45285",
   "metadata": {},
   "outputs": [],
   "source": [
    "# uppercase_letters = string.ascii_uppercase\n",
    "vocab = {letter:i for i,letter in enumerate(azb)}\n",
    "vocab_plus = {letter:i for i,letter in enumerate(azb + azb_extra)}"
   ]
  },
  {
   "cell_type": "code",
   "execution_count": 4,
   "id": "a68d6576",
   "metadata": {},
   "outputs": [
    {
     "name": "stdout",
     "output_type": "stream",
     "text": [
      "{'А': 0, 'Б': 1, 'В': 2, 'Г': 3, 'Д': 4, 'Е': 5, 'Ж': 6, 'З': 7, 'И': 8, 'Й': 9, 'К': 10, 'Л': 11, 'М': 12, 'Н': 13, 'О': 14, 'П': 15, 'Р': 16, 'С': 17, 'Т': 18, 'У': 19, 'Ф': 20, 'Х': 21, 'Ц': 22, 'Ч': 23, 'Ш': 24, 'Щ': 25, 'Ъ': 26, 'Ы': 27, 'Ь': 28, 'Э': 29, 'Ю': 30, 'Я': 31, 'а': 32, 'б': 33, 'в': 34, 'г': 35, 'д': 36, 'е': 37, 'ё': 38, 'ж': 39, 'з': 40, 'и': 41, 'й': 42, 'к': 43, 'л': 44, 'м': 45, 'н': 46, 'о': 47, 'п': 48, 'р': 49, 'с': 50, 'т': 51, 'у': 52, 'ф': 53, 'х': 54, 'ц': 55, 'ч': 56, 'ш': 57, 'щ': 58, 'ъ': 59, 'ы': 60, 'ь': 61, 'э': 62, 'ю': 63, 'я': 64} 65\n"
     ]
    }
   ],
   "source": [
    "print(vocab, len(vocab))"
   ]
  },
  {
   "cell_type": "code",
   "execution_count": 5,
   "id": "b432b6c4",
   "metadata": {},
   "outputs": [
    {
     "name": "stdout",
     "output_type": "stream",
     "text": [
      "{'А': 0, 'Б': 1, 'В': 2, 'Г': 3, 'Д': 4, 'Е': 5, 'Ж': 6, 'З': 7, 'И': 8, 'Й': 9, 'К': 10, 'Л': 11, 'М': 12, 'Н': 13, 'О': 14, 'П': 15, 'Р': 16, 'С': 17, 'Т': 18, 'У': 19, 'Ф': 20, 'Х': 21, 'Ц': 22, 'Ч': 23, 'Ш': 24, 'Щ': 25, 'Ъ': 26, 'Ы': 27, 'Ь': 28, 'Э': 29, 'Ю': 30, 'Я': 31, 'а': 32, 'б': 33, 'в': 34, 'г': 35, 'д': 36, 'е': 37, 'ё': 38, 'ж': 39, 'з': 40, 'и': 41, 'й': 42, 'к': 43, 'л': 44, 'м': 45, 'н': 46, 'о': 47, 'п': 48, 'р': 49, 'с': 50, 'т': 51, 'у': 52, 'ф': 53, 'х': 54, 'ц': 55, 'ч': 56, 'ш': 57, 'щ': 58, 'ъ': 59, 'ы': 60, 'ь': 61, 'э': 62, 'ю': 63, 'я': 64, ' ': 65, '.': 66, ',': 67, ';': 68, ':': 69, '!': 70, '?': 71, \"'\": 72, '\"': 73, '«': 74, '»': 75, '–': 76, '-': 77, '—': 78, '(': 79, ')': 80} 81\n"
     ]
    }
   ],
   "source": [
    "print(vocab_plus, len(vocab_plus))"
   ]
  },
  {
   "cell_type": "markdown",
   "id": "7d2ff5c3",
   "metadata": {},
   "source": [
    "## 2.3 Define Caesar cipher encrypting function as per [Caesar cipher definition](https://en.wikipedia.org/wiki/Caesar_cipher)"
   ]
  },
  {
   "cell_type": "markdown",
   "id": "067fe52a",
   "metadata": {},
   "source": [
    "__Our function will use the shorter dictionary of the two, because it will only encrypt letters and leave all the other symbols unchanged__"
   ]
  },
  {
   "cell_type": "code",
   "execution_count": 6,
   "id": "b8f74dcb",
   "metadata": {},
   "outputs": [],
   "source": [
    "def caesar(s_in, vocab, shift=1):\n",
    "    if type(s_in) == list:\n",
    "        return [caesar(s,vocab,shift) for s in s_in]\n",
    "    s_out = ''\n",
    "    for ch in s_in:\n",
    "        if ch not in vocab.keys():\n",
    "            s_out += ch\n",
    "        else:\n",
    "            ind = vocab[ch]\n",
    "            mark = vocab['а']\n",
    "            if ind < mark:\n",
    "                new_ind = (ind + shift) % mark\n",
    "            else:\n",
    "                new_ind = mark + (ind + shift - mark) % (len(vocab) - mark)\n",
    "            s_out += list(vocab.keys())[new_ind]\n",
    "    return s_out"
   ]
  },
  {
   "cell_type": "markdown",
   "id": "edb67609",
   "metadata": {},
   "source": [
    "## 2.4 Define Dataset class"
   ]
  },
  {
   "cell_type": "markdown",
   "id": "ce6f48e2",
   "metadata": {},
   "source": [
    "__Based on a given list of strings (labeled as sequences parameter here), our Dataset object will create a list of encrypted versions of those strings along with the original strings labeled as targets. Encrypting function passed as a parameter for object initialization method uses a letter-only dictionary (labeled as vocab_encrypt parameter here). Our class also has a method for outputting a tuple of string + target according to the index passed as parameter - both converted to tensor of integers.__"
   ]
  },
  {
   "cell_type": "markdown",
   "id": "683b8008",
   "metadata": {},
   "source": [
    "__Notice also how our Dataset class encodes characters as single integers, rather than one-hot vectors.__"
   ]
  },
  {
   "cell_type": "markdown",
   "id": "c2065706",
   "metadata": {},
   "source": [
    "__Method performing string to integer conversion uses an extended dictionary (labeled as vocab_long parameter here) in order to individually encode every possible symbol. For an unknown symbol it outputs len(vocab_long), rather than -1, which is harder to handle further down the line, in the emdebbing layer. Anyway, we'll process our data so that no unknwon symbols creep in, because they can affect our network learning.__"
   ]
  },
  {
   "cell_type": "code",
   "execution_count": 7,
   "id": "78598eea",
   "metadata": {},
   "outputs": [],
   "source": [
    "class CaesarDataset(Dataset):\n",
    "    def __init__(self, sequences, vocab_long, encrypt = caesar, vocab_encrypt = None, shift = 1):\n",
    "        self.vocab_long = vocab_long\n",
    "        if vocab_encrypt == None:\n",
    "            self.vocab_encrypt = vocab_long\n",
    "        else:\n",
    "            self.vocab_encrypt = vocab_encrypt\n",
    "        self.targets = sequences\n",
    "        self.shift = shift\n",
    "        self.data = encrypt(self.targets, self.vocab_encrypt, shift)        \n",
    "#         self.strlen = strlen\n",
    "    def __len__(self):\n",
    "        return len(self.data)\n",
    "    def str2ints(self, seq):\n",
    "        if type(seq) == list:\n",
    "            return [self.str2ints(s) for s in seq]\n",
    "        return [self.vocab_long.get(ch, len(self.vocab_long)) for ch in seq] ##USE VOCAB LENGTH, NOT -1, FOR UNKNOWN\n",
    "    def __getitem__(self, idx):\n",
    "        input_seqs = self.data[idx]\n",
    "        target_seqs = self.targets[idx]\n",
    "        return torch.tensor(self.str2ints(input_seqs),dtype=torch.long), torch.tensor(self.str2ints(target_seqs),\n",
    "                                                                                      dtype=torch.long)\n",
    "#         return self.str2ints(input_seqs), self.str2ints(target_seqs)"
   ]
  },
  {
   "cell_type": "markdown",
   "id": "e2d7b535",
   "metadata": {},
   "source": [
    "# 3. Make dataset using natural language texts"
   ]
  },
  {
   "cell_type": "markdown",
   "id": "c09f7fab",
   "metadata": {},
   "source": [
    "## 3.1 Get a collection of Russian proverbs from a [Wikipedia page](https://ru.wikiquote.org/wiki/Русские_пословицы)"
   ]
  },
  {
   "cell_type": "markdown",
   "id": "c6335fa7",
   "metadata": {},
   "source": [
    "__By looking at the html-layout of the page, we can see that the div section that contains the (unordered) list of proverbs has id=\"mw-content-text\". Further inspection shows that the list elements we need don't have class attribute. We're now ready to loop through the list, extracting text content of list items and storing it as strings in a list. Before adding proverb to our list, we clean out some fancy code points, and check if the proverb only contains symbols of our extended alphabet.__"
   ]
  },
  {
   "cell_type": "markdown",
   "id": "693030b7",
   "metadata": {},
   "source": [
    "__We also find the max and min string length in our proverb list.__"
   ]
  },
  {
   "cell_type": "code",
   "execution_count": 8,
   "id": "285ff79f",
   "metadata": {
    "scrolled": true
   },
   "outputs": [
    {
     "name": "stdout",
     "output_type": "stream",
     "text": [
      "Number of proverbs: 3659\n",
      "Max string length is 122, min string length is 11.\n",
      "First 10 proverbs:\n",
      "['А где щи, тут и нас ищи.', 'А ещё говорят, в Москве кур доят (а пошли и титек не нашли).', 'А как худ князь, так и в грязь.', 'А когда досуг-то будет? — А когда нас не будет.', 'А кто слыхал, чтоб медведь летал?', 'А не пьян, так хмелён.', 'А уже Вавилу запрятали в могилу.', 'Абросим не просит, а дадут — не бросит.', 'Август-батюшка заботой-работой мужика тешит.', 'Авирон не боится  ворон, а на галки есть палки.']\n"
     ]
    }
   ],
   "source": [
    "from bs4 import BeautifulSoup\n",
    "import requests\n",
    "html_content = requests.get(url = 'https://ru.wikiquote.org/wiki/Русские_пословицы').content\n",
    "data = BeautifulSoup(html_content, 'html.parser')\n",
    "  \n",
    "#finding the div with the id \n",
    "divtag = data.find('div', id = \"mw-content-text\")\n",
    "proverbs = []\n",
    "ultags = divtag.find_all(\"ul\")\n",
    "# print(len(ultags))\n",
    "for ultag in ultags:\n",
    "    litags = ultag.find_all(\"li\", class_=None)\n",
    "    for litag in litags:\n",
    "        proverb = litag.text.replace(\"\\xa0\", \" \") # REPLACE NON-BREAKING SPACE WITH ORDINARY WWHITESPACE\n",
    "        proverb = u\"\".join([c for c in proverb if ord(c) != 769]) #REMOVE STRESS MARKS IF ENCODED SEPARATELY\n",
    "        for ch in proverb:                     #USE FOR-ELSE IDIOM TO LEAVE OUT STRINGS WITH UNKNOWN SYMBOLS\n",
    "            if ch not in azb + azb_extra:\n",
    "                break\n",
    "        else:\n",
    "            proverbs.append(proverb)\n",
    "            \n",
    "length = len(proverbs)\n",
    "print(\"Number of proverbs:\", length)\n",
    "max_len, min_len = -1, len(proverbs[0])\n",
    "for proverb in proverbs:\n",
    "    if len(proverb) > max_len:\n",
    "        max_len = len(proverb)\n",
    "    if len(proverb) < min_len:\n",
    "        min_len = len(proverb)\n",
    "print(\"Max string length is {}, min string length is {}.\".format(max_len, min_len))\n",
    "print(\"First 10 proverbs:\")\n",
    "print(proverbs[:10])"
   ]
  },
  {
   "cell_type": "markdown",
   "id": "2e47a3cd",
   "metadata": {},
   "source": [
    "## 3.2 Create a proverb dataset and split it into train and test subsets"
   ]
  },
  {
   "cell_type": "markdown",
   "id": "1d600176",
   "metadata": {},
   "source": [
    "__We'll use a 30% split, which is an arbitrary choice and we won't optimize it here. Our Caesar cipher will use a shift of 2 characters.__"
   ]
  },
  {
   "cell_type": "code",
   "execution_count": 9,
   "id": "c413ea60",
   "metadata": {},
   "outputs": [],
   "source": [
    "ds_prov = CaesarDataset(proverbs, vocab_plus, caesar, vocab, 2)\n",
    "train_data, test_data = torch.utils.data.random_split(ds_prov, ( int((length*0.3)), length-int((length*0.3)) ) )"
   ]
  },
  {
   "cell_type": "markdown",
   "id": "a3ea3936",
   "metadata": {},
   "source": [
    "## 3.3 Define collate functions for packing string batches, in order to be able to handle variable length strings"
   ]
  },
  {
   "cell_type": "markdown",
   "id": "f5c80c64",
   "metadata": {},
   "source": [
    "__We could use a function that either only packs or both pads _and then_ packs sequences. In our dataloader we'll used the pad+pack one.__"
   ]
  },
  {
   "cell_type": "code",
   "execution_count": 10,
   "id": "0f686c53",
   "metadata": {},
   "outputs": [],
   "source": [
    "def pack_collate(batch):\n",
    "    X = [item[0] for item in batch]\n",
    "    y = [item[1] for item in batch]\n",
    "    X_packed = torch.nn.utils.rnn.pack_sequence(X, enforce_sorted=False)\n",
    "\n",
    "#     return X_pack, torch.as_tensor(y).view(-1, 1)\n",
    "    return X_packed, y"
   ]
  },
  {
   "cell_type": "code",
   "execution_count": 11,
   "id": "83880bad",
   "metadata": {},
   "outputs": [],
   "source": [
    "def pad_and_pack_collate(batch):\n",
    "    input_tensors = []\n",
    "    labels = []\n",
    "    lengths = []\n",
    "    for X, y in batch:\n",
    "        input_tensors.append(X)\n",
    "        labels.append(y)\n",
    "        lengths.append(X.shape[0]) #Assume shape is (T, *)\n",
    "    X_padded = torch.nn.utils.rnn.pad_sequence(input_tensors, batch_first=False)\n",
    "    X_packed = torch.nn.utils.rnn.pack_padded_sequence(X_padded, lengths, batch_first=False, enforce_sorted=False)\n",
    "    return X_packed, labels"
   ]
  },
  {
   "cell_type": "markdown",
   "id": "c2a157de",
   "metadata": {},
   "source": [
    "## 3.4 Create a dummy batch to make some checks"
   ]
  },
  {
   "cell_type": "markdown",
   "id": "bb256d8e",
   "metadata": {},
   "source": [
    "__It will be a batch of the type that our dataloader would extract using the get_item method of the dataset class.__"
   ]
  },
  {
   "cell_type": "code",
   "execution_count": 12,
   "id": "48011972",
   "metadata": {},
   "outputs": [
    {
     "name": "stdout",
     "output_type": "stream",
     "text": [
      "[(tensor([19, 62, 51, 49, 37, 49, 65, 48, 39, 65, 39, 47, 67, 65, 41, 34, 51, 39,\n",
      "        48, 49, 37, 49, 65, 48, 39, 65, 56, 49, 58, 54, 67, 65, 36, 34, 51, 40,\n",
      "        48, 49, 37, 49, 65, 53, 39, 51, 50, 39, 53, 63, 65, 48, 39, 65, 47, 49,\n",
      "        37, 54, 66]), tensor([17, 60, 49, 47, 35, 47, 65, 46, 37, 65, 37, 45, 67, 65, 39, 32, 49, 37,\n",
      "        46, 47, 35, 47, 65, 46, 37, 65, 54, 47, 56, 52, 67, 65, 34, 32, 49, 38,\n",
      "        46, 47, 35, 47, 65, 51, 37, 49, 48, 37, 51, 61, 65, 46, 37, 65, 45, 47,\n",
      "        35, 52, 66])), (tensor([14, 48, 49, 37, 49, 65, 42, 48, 34, 53, 63, 65, 78, 65, 47, 34, 46, 49,\n",
      "        65, 52, 50, 34, 53, 63, 66]), tensor([12, 46, 47, 35, 47, 65, 40, 46, 32, 51, 61, 65, 78, 65, 45, 32, 44, 47,\n",
      "        65, 50, 48, 32, 51, 61, 66]))]\n"
     ]
    }
   ],
   "source": [
    "dummy_batch = [train_data[0], train_data[1]]\n",
    "print(dummy_batch)"
   ]
  },
  {
   "cell_type": "code",
   "execution_count": 13,
   "id": "04ae6a00",
   "metadata": {},
   "outputs": [
    {
     "name": "stdout",
     "output_type": "stream",
     "text": [
      "(PackedSequence(data=tensor([19, 14, 62, 48, 51, 49, 49, 37, 37, 49, 49, 65, 65, 42, 48, 48, 39, 34,\n",
      "        65, 53, 39, 63, 47, 65, 67, 78, 65, 65, 41, 47, 34, 34, 51, 46, 39, 49,\n",
      "        48, 65, 49, 52, 37, 50, 49, 34, 65, 53, 48, 63, 39, 66, 65, 56, 49, 58,\n",
      "        54, 67, 65, 36, 34, 51, 40, 48, 49, 37, 49, 65, 53, 39, 51, 50, 39, 53,\n",
      "        63, 65, 48, 39, 65, 47, 49, 37, 54, 66]), batch_sizes=tensor([2, 2, 2, 2, 2, 2, 2, 2, 2, 2, 2, 2, 2, 2, 2, 2, 2, 2, 2, 2, 2, 2, 2, 2,\n",
      "        2, 1, 1, 1, 1, 1, 1, 1, 1, 1, 1, 1, 1, 1, 1, 1, 1, 1, 1, 1, 1, 1, 1, 1,\n",
      "        1, 1, 1, 1, 1, 1, 1, 1, 1]), sorted_indices=tensor([0, 1]), unsorted_indices=tensor([0, 1])), [tensor([17, 60, 49, 47, 35, 47, 65, 46, 37, 65, 37, 45, 67, 65, 39, 32, 49, 37,\n",
      "        46, 47, 35, 47, 65, 46, 37, 65, 54, 47, 56, 52, 67, 65, 34, 32, 49, 38,\n",
      "        46, 47, 35, 47, 65, 51, 37, 49, 48, 37, 51, 61, 65, 46, 37, 65, 45, 47,\n",
      "        35, 52, 66]), tensor([12, 46, 47, 35, 47, 65, 40, 46, 32, 51, 61, 65, 78, 65, 45, 32, 44, 47,\n",
      "        65, 50, 48, 32, 51, 61, 66])])\n"
     ]
    }
   ],
   "source": [
    "print(pad_and_pack_collate(dummy_batch))"
   ]
  },
  {
   "cell_type": "code",
   "execution_count": 14,
   "id": "0ef0a3fb",
   "metadata": {},
   "outputs": [
    {
     "name": "stdout",
     "output_type": "stream",
     "text": [
      "(PackedSequence(data=tensor([19, 14, 62, 48, 51, 49, 49, 37, 37, 49, 49, 65, 65, 42, 48, 48, 39, 34,\n",
      "        65, 53, 39, 63, 47, 65, 67, 78, 65, 65, 41, 47, 34, 34, 51, 46, 39, 49,\n",
      "        48, 65, 49, 52, 37, 50, 49, 34, 65, 53, 48, 63, 39, 66, 65, 56, 49, 58,\n",
      "        54, 67, 65, 36, 34, 51, 40, 48, 49, 37, 49, 65, 53, 39, 51, 50, 39, 53,\n",
      "        63, 65, 48, 39, 65, 47, 49, 37, 54, 66]), batch_sizes=tensor([2, 2, 2, 2, 2, 2, 2, 2, 2, 2, 2, 2, 2, 2, 2, 2, 2, 2, 2, 2, 2, 2, 2, 2,\n",
      "        2, 1, 1, 1, 1, 1, 1, 1, 1, 1, 1, 1, 1, 1, 1, 1, 1, 1, 1, 1, 1, 1, 1, 1,\n",
      "        1, 1, 1, 1, 1, 1, 1, 1, 1]), sorted_indices=tensor([0, 1]), unsorted_indices=tensor([0, 1])), [tensor([17, 60, 49, 47, 35, 47, 65, 46, 37, 65, 37, 45, 67, 65, 39, 32, 49, 37,\n",
      "        46, 47, 35, 47, 65, 46, 37, 65, 54, 47, 56, 52, 67, 65, 34, 32, 49, 38,\n",
      "        46, 47, 35, 47, 65, 51, 37, 49, 48, 37, 51, 61, 65, 46, 37, 65, 45, 47,\n",
      "        35, 52, 66]), tensor([12, 46, 47, 35, 47, 65, 40, 46, 32, 51, 61, 65, 78, 65, 45, 32, 44, 47,\n",
      "        65, 50, 48, 32, 51, 61, 66])])\n"
     ]
    }
   ],
   "source": [
    "print(pack_collate(dummy_batch))"
   ]
  },
  {
   "cell_type": "markdown",
   "id": "25881e66",
   "metadata": {},
   "source": [
    "__There is no single operator or function to compare two packed sequences, but visual inspection shows that both functions produce the same output.__"
   ]
  },
  {
   "cell_type": "markdown",
   "id": "4f41d2e4",
   "metadata": {},
   "source": [
    "## 3.5 Define data loaders"
   ]
  },
  {
   "cell_type": "code",
   "execution_count": 15,
   "id": "8171d3c8",
   "metadata": {},
   "outputs": [],
   "source": [
    "BATCH_SIZE = 10"
   ]
  },
  {
   "cell_type": "code",
   "execution_count": 16,
   "id": "3295e134",
   "metadata": {},
   "outputs": [],
   "source": [
    "train_loader = DataLoader(train_data, batch_size=BATCH_SIZE, shuffle=True, collate_fn=pad_and_pack_collate)\n",
    "test_loader = DataLoader(test_data, batch_size=BATCH_SIZE, shuffle=False, collate_fn=pad_and_pack_collate)"
   ]
  },
  {
   "cell_type": "markdown",
   "id": "e5503d93",
   "metadata": {},
   "source": [
    "# 4. Build RNN-based model"
   ]
  },
  {
   "cell_type": "markdown",
   "id": "a4243e26",
   "metadata": {},
   "source": [
    "__We're going to used a simple RNN-based model consisting of an embedding layer, an RNN layer and a fully-connected linear classifier layer. But we'll make some important additions to that.__"
   ]
  },
  {
   "cell_type": "markdown",
   "id": "c35ce9fd",
   "metadata": {},
   "source": [
    "## 4.1 Define a wrapper for the embedding layer"
   ]
  },
  {
   "cell_type": "markdown",
   "id": "790d5361",
   "metadata": {},
   "source": [
    "__The embedding layer in PyTorch does not support Packed Sequence objects. This wrapper class will fix that. It'll do the following, if the input is a packed batch:__ \n",
    "- __unpack and pad (if not already padded),__\n",
    "- __embed__\n",
    "- __re-pack again.__"
   ]
  },
  {
   "cell_type": "code",
   "execution_count": 17,
   "id": "f33478ad",
   "metadata": {},
   "outputs": [],
   "source": [
    "class EmbedPacked(nn.Module):\n",
    "    def __init__(self, embd_layer):\n",
    "        super(EmbedPacked, self).__init__()\n",
    "        self.embd_layer = embd_layer \n",
    "    \n",
    "    def forward(self, input):\n",
    "        if type(input) == torch.nn.utils.rnn.PackedSequence:\n",
    "            # We need to unpack the input, \n",
    "            sequences, lengths = torch.nn.utils.rnn.pad_packed_sequence(input.cpu(), batch_first=True)\n",
    "            #Embed it\n",
    "            sequences = self.embd_layer(sequences.to(input.data.device))\n",
    "            #And pack it into a new sequence\n",
    "            return torch.nn.utils.rnn.pack_padded_sequence(sequences, lengths.cpu(), \n",
    "                                                           batch_first=True, enforce_sorted=False)\n",
    "        else:#apply to normal data\n",
    "            return self.embd_layer(input)\n"
   ]
  },
  {
   "cell_type": "markdown",
   "id": "5825cf33",
   "metadata": {},
   "source": [
    "## 4.2 Define an intermediate module between RNN layer and linear classifier layer"
   ]
  },
  {
   "cell_type": "markdown",
   "id": "30d1e159",
   "metadata": {},
   "source": [
    "__We're going to need another module between our RNN layer and linear classifier layer. This additional module will do the following:__\n",
    "1. __By convention RNN outputs a tuple of two tensors: one that contains all hidden states + one that only contains the last hidden state (sometimes the second object is another tuple, containing the last hidden state). Since we'll do many-to-many classification, our intermediate module will extract the first tensor with _all_ the hidden states that the RNN creates as it processes each token.__\n",
    "2. __The module will concatenate all the tensors in the batch into a single long one. It will take the form of a tensor consisting of hidden state vectors that the linear classifier will then tansform into a vector of integers. It is this vector of integers that will be fed to our loss function, along with target integers, also squeezed into a single vector. In short, after unpacking, our module transforms a _(batch number, max seq length, hidden vector length)_ tensor into a _(sum of seq lengths, hidden v length)_ tensor.__\n",
    "3. __Since our embedding wrapper produces a zero-padded batch after unpacking, we need to get rid of those zeros. Our additional module does that using the original lengths of the sequences, that are part of the output that the unpacking function produces.__ "
   ]
  },
  {
   "cell_type": "markdown",
   "id": "9ea20b5b",
   "metadata": {},
   "source": [
    "__Actually, we could have done batch concatenation outside this module, or outside the RNN model object even, during training itself, but here we chose to tuck this step inside the model. On the other hand, we excluded calculating loss from our model class.__"
   ]
  },
  {
   "cell_type": "code",
   "execution_count": 18,
   "id": "44d8b09c",
   "metadata": {},
   "outputs": [],
   "source": [
    "class afterRNN(nn.Module):\n",
    "    def __init__(self, rnn_layers=1, bidirectional=False):\n",
    "        super(afterRNN, self).__init__()    \n",
    "    def forward(self, input):\n",
    "        out_unpacked, seq_sizes = torch.nn.utils.rnn.pad_packed_sequence(input[0], batch_first=True)\n",
    "        batches_combined = torch.cat([out_unpacked[i][:seq_sizes[i]] for i in range(len(seq_sizes))])\n",
    "        return batches_combined"
   ]
  },
  {
   "cell_type": "markdown",
   "id": "5b55ba5c",
   "metadata": {},
   "source": [
    "## 4.3 Build final model"
   ]
  },
  {
   "cell_type": "code",
   "execution_count": 19,
   "id": "61fe78b1",
   "metadata": {},
   "outputs": [],
   "source": [
    "D = 20"
   ]
  },
  {
   "cell_type": "code",
   "execution_count": 20,
   "id": "9af68b91",
   "metadata": {},
   "outputs": [],
   "source": [
    "hidden_nodes = 10"
   ]
  },
  {
   "cell_type": "code",
   "execution_count": 21,
   "id": "02b5da0f",
   "metadata": {},
   "outputs": [],
   "source": [
    "simple_rnn = nn.Sequential(\n",
    "  EmbedPacked(nn.Embedding(len(vocab_plus), D)), #(B, T) -> (B, T, D)\n",
    "  nn.RNN(D, hidden_nodes, batch_first=True), #(B, T, D) -> ( (B,T,D) , (S, B, D)  )\n",
    "  #the tanh activation is built into the RNN object, so we don't need to do it here\n",
    "  afterRNN(),\n",
    "  nn.Linear(hidden_nodes, len(vocab_plus)), #(B, D) -> (B, classes)\n",
    ")"
   ]
  },
  {
   "cell_type": "markdown",
   "id": "db9a4a6d",
   "metadata": {},
   "source": [
    "## 4.4 Check shapes of intermediate objects"
   ]
  },
  {
   "cell_type": "markdown",
   "id": "992a96d9",
   "metadata": {},
   "source": [
    "__Alternatively, our model can be defined as object of a class inherting directly from torch.nn.Module class, using our EmbedPacked module class defined earlier, i.e. outside the model class itself. We could use AfteRNN module as well here, but instead the corresponding steps are simply included in the forward function. This allows us to check the shape of intermediate objects:__"
   ]
  },
  {
   "cell_type": "code",
   "execution_count": 22,
   "id": "5eab564f",
   "metadata": {},
   "outputs": [],
   "source": [
    "class simple_rnn_model (torch.nn.Module):\n",
    "    def __init__(self, D, hidden_nodes, len_vocab):\n",
    "        super().__init__()\n",
    "        self.embedpacked = EmbedPacked(torch.nn.Embedding(len_vocab, D))\n",
    "        self.rnn = torch.nn.RNN(D, hidden_nodes, batch_first=True)\n",
    "        self.linear = torch.nn.Linear(hidden_nodes, len_vocab)\n",
    "        \n",
    "    def forward(self, batch, state=None):\n",
    "        print(\"Batch is of type\", type(batch))\n",
    "        \n",
    "        embedded = self.embedpacked(batch)\n",
    "        out, h = self.rnn(embedded)\n",
    "        out_unpacked, seq_sizes = torch.nn.utils.rnn.pad_packed_sequence(out, batch_first=True)\n",
    "        print(\"Shape after unpacking is\", out_unpacked.shape)\n",
    "        batches_combined = torch.cat([out_unpacked[i][:seq_sizes[i]] for i in range(len(seq_sizes))])\n",
    "#         batches_combined = AfterRNN()((out, h))\n",
    "        print(\"Shape after concatenating batches is\", batches_combined.shape)\n",
    "        return self.linear(batches_combined)\n",
    "        \n",
    "#         print(type(o), type(h), h.shape)\n",
    "#         return self.linear(o.data)"
   ]
  },
  {
   "cell_type": "code",
   "execution_count": 23,
   "id": "0ad394ec",
   "metadata": {},
   "outputs": [],
   "source": [
    "simple_rnn_model_print_shapes = simple_rnn_model(D, hidden_nodes, len(vocab_plus))"
   ]
  },
  {
   "cell_type": "markdown",
   "id": "2ed90aae",
   "metadata": {},
   "source": [
    "__Our dummy batch consists of a 31-character long proverb (encrypted and decrypted) and a 27-character long one:__"
   ]
  },
  {
   "cell_type": "code",
   "execution_count": 24,
   "id": "c32e8a04",
   "metadata": {},
   "outputs": [
    {
     "name": "stdout",
     "output_type": "stream",
     "text": [
      "torch.Size([57]) torch.Size([57]) torch.Size([25]) torch.Size([25])\n"
     ]
    }
   ],
   "source": [
    "print(dummy_batch[0][0].shape, dummy_batch[0][1].shape,dummy_batch[1][0].shape,dummy_batch[1][1].shape)"
   ]
  },
  {
   "cell_type": "code",
   "execution_count": 25,
   "id": "68e38d71",
   "metadata": {},
   "outputs": [
    {
     "data": {
      "text/plain": [
       "(PackedSequence(data=tensor([19, 14, 62, 48, 51, 49, 49, 37, 37, 49, 49, 65, 65, 42, 48, 48, 39, 34,\n",
       "         65, 53, 39, 63, 47, 65, 67, 78, 65, 65, 41, 47, 34, 34, 51, 46, 39, 49,\n",
       "         48, 65, 49, 52, 37, 50, 49, 34, 65, 53, 48, 63, 39, 66, 65, 56, 49, 58,\n",
       "         54, 67, 65, 36, 34, 51, 40, 48, 49, 37, 49, 65, 53, 39, 51, 50, 39, 53,\n",
       "         63, 65, 48, 39, 65, 47, 49, 37, 54, 66]), batch_sizes=tensor([2, 2, 2, 2, 2, 2, 2, 2, 2, 2, 2, 2, 2, 2, 2, 2, 2, 2, 2, 2, 2, 2, 2, 2,\n",
       "         2, 1, 1, 1, 1, 1, 1, 1, 1, 1, 1, 1, 1, 1, 1, 1, 1, 1, 1, 1, 1, 1, 1, 1,\n",
       "         1, 1, 1, 1, 1, 1, 1, 1, 1]), sorted_indices=tensor([0, 1]), unsorted_indices=tensor([0, 1])),\n",
       " [tensor([17, 60, 49, 47, 35, 47, 65, 46, 37, 65, 37, 45, 67, 65, 39, 32, 49, 37,\n",
       "          46, 47, 35, 47, 65, 46, 37, 65, 54, 47, 56, 52, 67, 65, 34, 32, 49, 38,\n",
       "          46, 47, 35, 47, 65, 51, 37, 49, 48, 37, 51, 61, 65, 46, 37, 65, 45, 47,\n",
       "          35, 52, 66]),\n",
       "  tensor([12, 46, 47, 35, 47, 65, 40, 46, 32, 51, 61, 65, 78, 65, 45, 32, 44, 47,\n",
       "          65, 50, 48, 32, 51, 61, 66])])"
      ]
     },
     "execution_count": 25,
     "metadata": {},
     "output_type": "execute_result"
    }
   ],
   "source": [
    "ppb = pad_and_pack_collate(dummy_batch)\n",
    "ppb"
   ]
  },
  {
   "cell_type": "code",
   "execution_count": 26,
   "id": "91e41a64",
   "metadata": {},
   "outputs": [
    {
     "name": "stdout",
     "output_type": "stream",
     "text": [
      "Batch is of type <class 'torch.nn.utils.rnn.PackedSequence'>\n",
      "Shape after unpacking is torch.Size([2, 57, 10])\n",
      "Shape after concatenating batches is torch.Size([82, 10])\n",
      "Shape returned by model is torch.Size([82, 81])\n"
     ]
    }
   ],
   "source": [
    "with torch.no_grad():\n",
    "#     print(simple_rnn(ppb[0].to(device)), simple_rnn(ppb[0].to(device)).shape)\n",
    "    res_prints = simple_rnn_model_print_shapes.forward(ppb[0])\n",
    "    print(\"Shape returned by model is\", res_prints.shape)\n",
    "#     print(simple_rnn(ppb[0].to(device)))"
   ]
  },
  {
   "cell_type": "markdown",
   "id": "c82fc44d",
   "metadata": {},
   "source": [
    "## 4.5 Move model to GPU"
   ]
  },
  {
   "cell_type": "code",
   "execution_count": 27,
   "id": "d6805a31",
   "metadata": {},
   "outputs": [
    {
     "data": {
      "text/plain": [
       "'cuda'"
      ]
     },
     "execution_count": 27,
     "metadata": {},
     "output_type": "execute_result"
    }
   ],
   "source": [
    "device = \"cuda\" if torch.cuda.is_available() else \"cpu\"\n",
    "device"
   ]
  },
  {
   "cell_type": "code",
   "execution_count": 28,
   "id": "8bc77a0b",
   "metadata": {
    "scrolled": true
   },
   "outputs": [
    {
     "data": {
      "text/plain": [
       "Sequential(\n",
       "  (0): EmbedPacked(\n",
       "    (embd_layer): Embedding(81, 20)\n",
       "  )\n",
       "  (1): RNN(20, 10, batch_first=True)\n",
       "  (2): afterRNN()\n",
       "  (3): Linear(in_features=10, out_features=81, bias=True)\n",
       ")"
      ]
     },
     "execution_count": 28,
     "metadata": {},
     "output_type": "execute_result"
    }
   ],
   "source": [
    "simple_rnn.to(device)"
   ]
  },
  {
   "cell_type": "markdown",
   "id": "09b0d4c3",
   "metadata": {},
   "source": [
    "## 4.6 Define loss function, optimizer and a couple of additional functions"
   ]
  },
  {
   "cell_type": "code",
   "execution_count": 29,
   "id": "6593a984",
   "metadata": {},
   "outputs": [],
   "source": [
    "def weight_reset(m):\n",
    "    if \"reset_parameters\" in dir(m):\n",
    "        m.reset_parameters()\n",
    "    return"
   ]
  },
  {
   "cell_type": "code",
   "execution_count": 30,
   "id": "d2ef24fb",
   "metadata": {},
   "outputs": [],
   "source": [
    "def plot_learning_curves(*args):\n",
    "    '''\n",
    "    Функция для вывода графиков лосса и метрики во время обучения.\n",
    "    '''\n",
    "    fig = plt.figure(figsize=(20, 7))\n",
    "\n",
    "    plt.subplot(1,2,1)\n",
    "    plt.title('Loss', fontsize=15)\n",
    "    if len(args)==1:\n",
    "        plt.plot(args[0]['dict']['loss']['train'], label='train')\n",
    "        plt.plot(args[0]['dict']['loss']['val'], label='val')\n",
    "    elif len(args) > 1:\n",
    "        #plt.suptitle(\"Сравнение \")\n",
    "        for hist in args:\n",
    "            plt.plot(hist['dict']['loss']['val'], label=hist['tag'])\n",
    "    plt.ylabel('Loss', fontsize=15)\n",
    "    plt.xlabel('epoch', fontsize=15)\n",
    "    plt.legend()\n",
    "\n",
    "    plt.subplot(1,2,2)\n",
    "    plt.title('Accuracy', fontsize=15)\n",
    "    if len(args)==1:\n",
    "        plt.plot(args[0]['dict']['acc']['train'], label='train')\n",
    "        plt.plot(args[0]['dict']['acc']['val'], label='val')\n",
    "    elif len(args) > 1:\n",
    "        for hist in args:\n",
    "            plt.plot(hist['dict']['acc']['val'], label=hist['tag'])\n",
    "    plt.ylabel('Accuracy', fontsize=15)\n",
    "    plt.xlabel('epoch', fontsize=15)\n",
    "    plt.legend()\n",
    "    plt.show()"
   ]
  },
  {
   "cell_type": "code",
   "execution_count": 31,
   "id": "e714067f",
   "metadata": {},
   "outputs": [],
   "source": [
    "criterion = torch.nn.CrossEntropyLoss()\n",
    "optimizer = torch.optim.SGD(simple_rnn.parameters(), lr=.05)"
   ]
  },
  {
   "cell_type": "markdown",
   "id": "e333a4a9",
   "metadata": {},
   "source": [
    "## 4.7 Train model"
   ]
  },
  {
   "cell_type": "code",
   "execution_count": 32,
   "id": "eb25af6c",
   "metadata": {},
   "outputs": [
    {
     "name": "stdout",
     "output_type": "stream",
     "text": [
      "Epoch 1. Time: 37.671, train loss: 3.626, train accuracy: 0.251, test loss: 2.898, test accuracy: 0.359,\n",
      "Epoch 2. Time: 35.262, train loss: 2.504, train accuracy: 0.447, test loss: 2.149, test accuracy: 0.544,\n",
      "Epoch 3. Time: 35.393, train loss: 1.888, train accuracy: 0.649, test loss: 1.639, test accuracy: 0.744,\n",
      "Epoch 4. Time: 35.200, train loss: 1.463, train accuracy: 0.770, test loss: 1.293, test accuracy: 0.785,\n",
      "Epoch 5. Time: 35.072, train loss: 1.179, train accuracy: 0.800, test loss: 1.064, test accuracy: 0.831,\n",
      "Epoch 6. Time: 35.115, train loss: 0.987, train accuracy: 0.837, test loss: 0.906, test accuracy: 0.854,\n",
      "Epoch 7. Time: 35.153, train loss: 0.853, train accuracy: 0.862, test loss: 0.790, test accuracy: 0.876,\n",
      "Epoch 8. Time: 35.144, train loss: 0.750, train accuracy: 0.880, test loss: 0.701, test accuracy: 0.886,\n",
      "Epoch 9. Time: 35.189, train loss: 0.671, train accuracy: 0.892, test loss: 0.632, test accuracy: 0.903,\n",
      "Epoch 10. Time: 35.664, train loss: 0.608, train accuracy: 0.904, test loss: 0.576, test accuracy: 0.909,\n",
      "Epoch 11. Time: 34.975, train loss: 0.557, train accuracy: 0.912, test loss: 0.530, test accuracy: 0.921,\n",
      "Epoch 12. Time: 35.306, train loss: 0.514, train accuracy: 0.927, test loss: 0.491, test accuracy: 0.931,\n",
      "Epoch 13. Time: 35.509, train loss: 0.478, train accuracy: 0.929, test loss: 0.458, test accuracy: 0.933,\n",
      "Epoch 14. Time: 36.084, train loss: 0.446, train accuracy: 0.942, test loss: 0.429, test accuracy: 0.946,\n",
      "Epoch 15. Time: 35.942, train loss: 0.420, train accuracy: 0.948, test loss: 0.404, test accuracy: 0.952,\n",
      "Epoch 16. Time: 35.788, train loss: 0.396, train accuracy: 0.952, test loss: 0.382, test accuracy: 0.953,\n",
      "Epoch 17. Time: 35.847, train loss: 0.375, train accuracy: 0.952, test loss: 0.363, test accuracy: 0.953,\n",
      "Epoch 18. Time: 35.740, train loss: 0.356, train accuracy: 0.953, test loss: 0.346, test accuracy: 0.953,\n",
      "Epoch 19. Time: 34.930, train loss: 0.340, train accuracy: 0.958, test loss: 0.331, test accuracy: 0.959,\n",
      "Epoch 20. Time: 35.159, train loss: 0.325, train accuracy: 0.959, test loss: 0.317, test accuracy: 0.959,\n"
     ]
    }
   ],
   "source": [
    "simple_rnn.apply(weight_reset)\n",
    "history = defaultdict(lambda: defaultdict(list))\n",
    "for ep in range(20):\n",
    "    start = time.time()\n",
    "    train_loss, test_loss, train_acc, test_acc = 0.,0.,0.,0.\n",
    "    iter_passed = 0\n",
    "    \n",
    "#     for inputs, targets in tqdm(data_loader, desc=desc, leave=False):\n",
    "    simple_rnn.train()\n",
    "    for inputs, targets in train_loader:\n",
    "        inputs  =  inputs.to(device)\n",
    "\n",
    "        optimizer.zero_grad()\n",
    "        answers = simple_rnn(inputs)\n",
    "        answers = answers.view(-1, len(vocab_plus)) # NOT NECESSARY SINCE BATCHES ARE CONCATENATED IN AFTER_RNN LAYER\n",
    "        \n",
    "#         targets = targets.flatten().to(device) # WON'T WORK SINCE TARGETS IS A LIST\n",
    "#         targets = targets.view(1, -1).squeeze() # WON'T WORK SINCE TARGETS IS A LIST\n",
    "        targets = torch.as_tensor([target for batch in targets for target in batch]).to(device)\n",
    "        loss = criterion(answers, targets)\n",
    "        train_loss += loss.item()\n",
    "        \n",
    "        train_acc += (answers.argmax(dim=1) == targets).sum().item()/answers.shape[0]\n",
    "\n",
    "        loss.backward()\n",
    "        optimizer.step()\n",
    "        iter_passed += 1\n",
    "        \n",
    "        torch.cuda.empty_cache()\n",
    "        gc.collect()\n",
    "    \n",
    "    train_acc /= iter_passed\n",
    "    train_loss /= iter_passed\n",
    "    history['loss']['train'].append(train_loss)\n",
    "    history['acc']['train'].append(train_acc)\n",
    "    iter_passed = 0\n",
    "        \n",
    "    simple_rnn.eval()\n",
    "    for inputs, targets in test_loader:\n",
    "        inputs  =  inputs.to(device)\n",
    "\n",
    "        optimizer.zero_grad()\n",
    "        answers = simple_rnn(inputs)\n",
    "        answers = answers.view(-1, len(vocab_plus))\n",
    "        \n",
    "#         targets = targets.flatten().to(device) # WON'T WORK SINCE TARGETS IS A LIST\n",
    "#         targets = targets.view(1, -1).squeeze() # WON'T WORK SINCE TARGETS IS A LIST\n",
    "        targets = torch.as_tensor([target for batch in targets for target in batch]).to(device)\n",
    "        loss = criterion(answers, targets)\n",
    "        test_loss += loss.item()\n",
    "        \n",
    "        test_acc += (answers.argmax(dim=1) == targets).sum().item()/answers.shape[0]\n",
    "\n",
    "        iter_passed += 1\n",
    "        \n",
    "        torch.cuda.empty_cache()\n",
    "        gc.collect()\n",
    "    \n",
    "    test_acc /= iter_passed\n",
    "    test_loss /= iter_passed\n",
    "    history['loss']['val'].append(test_loss)\n",
    "    history['acc']['val'].append(test_acc)\n",
    "\n",
    "    print(\"Epoch {}. Time: {:.3f}, train loss: {:.3f}, train accuracy: {:.3f}, \"\n",
    "          \"test loss: {:.3f}, test accuracy: {:.3f},\".format(ep+1, time.time() - start, \n",
    "                                                               train_loss, train_acc, test_loss, test_acc))\n",
    "dict_proverbs  = {'dict': history, 'tag': 'with proverbs dataset'}"
   ]
  },
  {
   "cell_type": "markdown",
   "id": "14fe134c",
   "metadata": {},
   "source": [
    "## 4.8 Plot loss and accuracy vs epoch"
   ]
  },
  {
   "cell_type": "code",
   "execution_count": 33,
   "id": "dbb1362d",
   "metadata": {
    "scrolled": false
   },
   "outputs": [
    {
     "data": {
      "image/png": "[encoded data removed]",
      "text/plain": [
       "<Figure size 2000x700 with 2 Axes>"
      ]
     },
     "metadata": {},
     "output_type": "display_data"
    }
   ],
   "source": [
    "plot_learning_curves(dict_proverbs)"
   ]
  },
  {
   "cell_type": "markdown",
   "id": "ecacfe46",
   "metadata": {},
   "source": [
    "## 4.9 Validate model using a test phrase"
   ]
  },
  {
   "cell_type": "markdown",
   "id": "5967a877",
   "metadata": {},
   "source": [
    "### 4.9.1 Choose test phrase that is not present among our proverbs list, encrypt it using the same algorithm as used in our RNN model"
   ]
  },
  {
   "cell_type": "markdown",
   "id": "43ffa74f",
   "metadata": {},
   "source": [
    "__We'll make sure our test phrase only contains characters present in our extended vocabulary.__"
   ]
  },
  {
   "cell_type": "code",
   "execution_count": 34,
   "id": "a279aad8",
   "metadata": {
    "scrolled": true
   },
   "outputs": [
    {
     "name": "stdout",
     "output_type": "stream",
     "text": [
      "Test phrase has length 190\n",
      "Test phrase is:\n",
      " Прежде чем задать вопрос, попробуйте найти ответ в интернете. Навык самостоятельного поиска информации — один из важнейших. Каждый практикующий специалист любого уровня делает это ежедневно.\n",
      "Encrypted test phrase is:\n",
      " Стжиёж щжо йвёвфю дрстру, срстргхлфж пвлфк рфджф д кпфжтпжфж. Пвдэм уворуфрбфжнюпрер сркумв кпцртовшкк — рёкп кй двипжлъкч. Мвиёэл ствмфкмхаыкл усжшквнкуф нагрер хтрдпб ёжнвжф яфр жижёпждпр.\n"
     ]
    }
   ],
   "source": [
    "test_phrase = (\"Прежде чем задать вопрос, попробуйте найти ответ в интернете. Навык самостоятельного поиска\" \n",
    "\" информации — один из важнейших. Каждый практикующий специалист любого уровня делает это ежедневно.\")\n",
    "# test_phrase = \"\"\"Прежде чем задать вопрос, попробуйте найти ответ в интернете. Навык самостоятельного поиска\n",
    "#  информации — один из важнейших. Каждый практикующий специалист любого уровня делает это ежедневно.\"\"\"\n",
    "print(\"Test phrase has length\", len(test_phrase))\n",
    "# test_phrase = test_phrase[:95]\n",
    "print(\"Test phrase is:\\n\", test_phrase)\n",
    "test_phrase_encr = caesar(test_phrase, vocab,2)\n",
    "print(\"Encrypted test phrase is:\\n\", test_phrase_encr)"
   ]
  },
  {
   "cell_type": "markdown",
   "id": "d005421f",
   "metadata": {},
   "source": [
    "### 4.9.2 Encode test phrase and its encrypted version"
   ]
  },
  {
   "cell_type": "code",
   "execution_count": 35,
   "id": "5ce7a797",
   "metadata": {
    "scrolled": false
   },
   "outputs": [],
   "source": [
    "# print([vocab_plus.get(tok, -1) for tok in test_phrase_encr])\n",
    "# test_phrase_encr_encoded = torch.as_tensor([vocab_plus.get(tok, -1) for tok in test_phrase_encr])\n",
    "test_phrase_encr_encoded = torch.as_tensor([vocab_plus[tok] for tok in test_phrase_encr])\n",
    "# print(test_phrase_encr_encoded)"
   ]
  },
  {
   "cell_type": "code",
   "execution_count": 36,
   "id": "79b48139",
   "metadata": {},
   "outputs": [],
   "source": [
    "# test_phrase_encoded = torch.as_tensor([vocab_plus.get(tok, -1) for tok in test_phrase])\n",
    "test_phrase_encoded = torch.as_tensor([vocab_plus[tok] for tok in test_phrase])\n",
    "# print(test_phrase_encoded)"
   ]
  },
  {
   "cell_type": "markdown",
   "id": "6701ddc3",
   "metadata": {},
   "source": [
    "### 4.9.3 Wrap test phrase and its encrypted version in a batch"
   ]
  },
  {
   "cell_type": "code",
   "execution_count": 38,
   "id": "43506396",
   "metadata": {},
   "outputs": [],
   "source": [
    "test_batch = [(test_phrase_encr_encoded,test_phrase_encoded)]\n",
    "# print(test_batch)"
   ]
  },
  {
   "cell_type": "markdown",
   "id": "89d45d91",
   "metadata": {},
   "source": [
    "### 4.9.4 Run encrypted test phrase through our model"
   ]
  },
  {
   "cell_type": "code",
   "execution_count": 45,
   "id": "06ded6e3",
   "metadata": {},
   "outputs": [],
   "source": [
    "# simple_rnn.to('cpu')\n",
    "with torch.no_grad():\n",
    "# simple_rnn.eval()\n",
    "    res = simple_rnn(pad_and_pack_collate(test_batch)[0].to(device))"
   ]
  },
  {
   "cell_type": "code",
   "execution_count": 46,
   "id": "23761926",
   "metadata": {},
   "outputs": [
    {
     "name": "stdout",
     "output_type": "stream",
     "text": [
      "torch.Size([190, 81])\n"
     ]
    }
   ],
   "source": [
    "print(res.shape)"
   ]
  },
  {
   "cell_type": "code",
   "execution_count": 47,
   "id": "3bf7bc22",
   "metadata": {},
   "outputs": [],
   "source": [
    "res = res.argmax(dim=1)"
   ]
  },
  {
   "cell_type": "markdown",
   "id": "0d5e3d91",
   "metadata": {},
   "source": [
    "### 4.9.5 Re-code predicted (=decrypted) phrase as string of characters"
   ]
  },
  {
   "cell_type": "code",
   "execution_count": 48,
   "id": "32c3a880",
   "metadata": {},
   "outputs": [],
   "source": [
    "anti_vocab_plus = {v:k for k,v in vocab_plus.items()}"
   ]
  },
  {
   "cell_type": "code",
   "execution_count": 49,
   "id": "88e1c68c",
   "metadata": {},
   "outputs": [
    {
     "name": "stdout",
     "output_type": "stream",
     "text": [
      "урежде чем задать вопрос, попробуйте найти ответ в интернете.  авык самостоятельного поиска ин ормайии — один из важнейших.  аждый практикугмий спегиалист лгбого уровня делает ато ежедневно.\n"
     ]
    }
   ],
   "source": [
    "pred_phrase = \"\".join([anti_vocab_plus[i.item()] for i in res])\n",
    "print(pred_phrase)"
   ]
  },
  {
   "cell_type": "markdown",
   "id": "89b18964",
   "metadata": {},
   "source": [
    "### 4.9.6 Calculate percentage of correctly decrypted characters (accuracy)"
   ]
  },
  {
   "cell_type": "code",
   "execution_count": 53,
   "id": "ac215f01",
   "metadata": {},
   "outputs": [
    {
     "data": {
      "text/plain": [
       "0.9473684210526315"
      ]
     },
     "execution_count": 53,
     "metadata": {},
     "output_type": "execute_result"
    }
   ],
   "source": [
    "sum([test_phrase[i] == pred_phrase[i] for i in range(len(test_phrase))])/len(test_phrase)"
   ]
  },
  {
   "cell_type": "markdown",
   "id": "bfed7bc1",
   "metadata": {},
   "source": [
    "# 5. Make a dataset using randomly generated pieces of text"
   ]
  },
  {
   "cell_type": "markdown",
   "id": "0fee3e96",
   "metadata": {},
   "source": [
    "__Let's now build a dataset of randomly generated phrases using our extended vocabulary and see if training our RNN model will perform differently with this dataset.__"
   ]
  },
  {
   "cell_type": "markdown",
   "id": "58a3b74a",
   "metadata": {},
   "source": [
    "## 5.1 Create a list of artificial pieces of text"
   ]
  },
  {
   "cell_type": "markdown",
   "id": "e866d5e5",
   "metadata": {},
   "source": [
    "__We'll generate a list of the same length as our proverbs list, with the same maximum and minimum phrase length. Length distribution and positional distribution of characters will of course be different.__"
   ]
  },
  {
   "cell_type": "code",
   "execution_count": 54,
   "id": "f5db4008",
   "metadata": {},
   "outputs": [],
   "source": [
    "strings = []\n",
    "for i in range(length):\n",
    "#     strings.append(''.join(random.choices(string.ascii_uppercase, k=10)))\n",
    "    strings.append(''.join(random.choices(azb + azb_extra, k=random.randint(min_len,max_len+1))))"
   ]
  },
  {
   "cell_type": "code",
   "execution_count": 55,
   "id": "ba8e10c7",
   "metadata": {
    "scrolled": true
   },
   "outputs": [
    {
     "name": "stdout",
     "output_type": "stream",
     "text": [
      "['лМо)мХРЖЧ»?х.Кч!', 'ётВЕм;;ФпШ!ВзъГмЧяуЛ\\'Щ,)Ь\"-сгНуДЙГВвЬЪшыЮбНЦпюФг оШОйИЛБявьНл', 'ЭыА,ОЛС ЮХрФцФИЗёцяЪПШЭЙвЩажзап,вЧЧадйШтпжэ)ЖАР-ъф Н\\'к»КСн\\'ХСЕХцршсБ–ЯыЕУЭьЖ–)-о«ЙШЮЕНМын?вояФЩ\";\"Я?Х', 'МТЮч-оС;УУЯв,мИЗЧнхБн,пл«ЪЛуи)ГЖАКЩ«З\"ЙЛПТ', 'ГмЩруичд»и;ЛЕМЗЩНз\\'!ЪМа)фОЛэЗъЕ»Э\"ьЖПъёдпэлМо;ЬЛьГпЖКМ УЗЪжПВыя:хуоБ(ьъг?У-—Еч', 'гЦ\" Ч елЩВеЖКгъ:шОэнибя?ЧэЦ', 'ЫЫяВа—р—рПФж;ЦТишу.СЬВ(.флйГ-ХЙг', 'Уи–-\\'!квИлеВЪ?жхКзсы,Иая?ИЧР»«щ»Г«ЖИИТ;ЯБЕЙЭщШюПмфПвЫм)\"ц', 'эЮжзИмх(ЙИец—юЪЭ', 'оЮ..!ПюОё\"\"Д-!вкщН.спВ((ЦО«ц:']\n"
     ]
    }
   ],
   "source": [
    "print(strings[:10])"
   ]
  },
  {
   "cell_type": "code",
   "execution_count": 56,
   "id": "0874f71f",
   "metadata": {
    "scrolled": false
   },
   "outputs": [
    {
     "name": "stdout",
     "output_type": "stream",
     "text": [
      "['мНп)нЦСЗШ»?ц.Лш!', 'жуГЖн;;ХрЩ!ГиыДнШафМ\\'Ъ,)Э\"-тдОфЕКДГгЭЫщьЯвОЧряХд пЩПкЙМВагэОм', 'ЮьБ,ПМТ ЯЦсХчХЙИжчаЫРЩЮКгЪбзибр,гШШбекЩурзю)ЗБС-ых О\\'л»ЛТо\\'ЦТЖЦчсщтВ–АьЖФЮэЗ–)-п«КЩЯЖОНьо?гпаХЪ\";\"А?Ц', 'НУЯш-пТ;ФФАг,нЙИШоцВо,рм«ЫМфй)ДЗБЛЪ«И\"КМРУ', 'ДнЪсфйше»й;МЖНИЪОи\\'!ЫНб)хПМюИыЖ»Ю\"эЗРыжерюмНп;ЭМэДрЗЛН ФИЫзРГьа:цфпВ(эыд?Ф-—Жш', 'дЧ\" Ш ёмЪГёЗЛды:щПюойва?ШюЧ', 'ЬЬаГб—с—сРХз;ЧУйщф.ТЭГ(.хмкД-ЦКд', 'Фй–-\\'!лгЙмёГЫ?зцЛить,Йба?ЙШС»«ъ»Д«ЗЙЙУ;АВЖКЮъЩяРнхРгЬн)\"ч', 'юЯзиЙнц(КЙёч—яЫЮ', 'пЯ..!РяПж\"\"Е-!глъО.трГ((ЧП«ч:']\n"
     ]
    }
   ],
   "source": [
    "print(caesar(strings[:10],vocab))"
   ]
  },
  {
   "cell_type": "markdown",
   "id": "aa92e137",
   "metadata": {},
   "source": [
    "## 5.2 Make a new dataset"
   ]
  },
  {
   "cell_type": "code",
   "execution_count": 57,
   "id": "3900ac6d",
   "metadata": {},
   "outputs": [],
   "source": [
    "ds_strings = CaesarDataset(strings, vocab_plus, caesar, vocab, 2)"
   ]
  },
  {
   "cell_type": "code",
   "execution_count": 58,
   "id": "44663c05",
   "metadata": {},
   "outputs": [
    {
     "name": "stdout",
     "output_type": "stream",
     "text": [
      "3659 2562\n"
     ]
    }
   ],
   "source": [
    "print(len(ds_strings),len(ds_strings)-int((len(ds_strings)*0.3)))"
   ]
  },
  {
   "cell_type": "markdown",
   "id": "3fc1c8b7",
   "metadata": {},
   "source": [
    "## 5.3 Redefine train and test subsets, and data loaders"
   ]
  },
  {
   "cell_type": "code",
   "execution_count": 59,
   "id": "be8ec709",
   "metadata": {
    "scrolled": false
   },
   "outputs": [],
   "source": [
    "train_data, test_data = torch.utils.data.random_split(ds_strings, ( int((length*0.3)), length-int((length*0.3)) ) )"
   ]
  },
  {
   "cell_type": "code",
   "execution_count": 60,
   "id": "b787406d",
   "metadata": {},
   "outputs": [],
   "source": [
    "train_loader = DataLoader(train_data, batch_size=BATCH_SIZE, shuffle=True, collate_fn=pad_and_pack_collate)\n",
    "test_loader = DataLoader(test_data, batch_size=BATCH_SIZE, shuffle=False, collate_fn=pad_and_pack_collate)"
   ]
  },
  {
   "cell_type": "markdown",
   "id": "a5bc5f04",
   "metadata": {},
   "source": [
    "# 6. Train model using a randomly generated dataset"
   ]
  },
  {
   "cell_type": "markdown",
   "id": "0e7fecaa",
   "metadata": {},
   "source": [
    "## 6.1 Train model with new data loaders"
   ]
  },
  {
   "cell_type": "code",
   "execution_count": 63,
   "id": "251041bd",
   "metadata": {
    "scrolled": true
   },
   "outputs": [
    {
     "name": "stdout",
     "output_type": "stream",
     "text": [
      "Epoch 1. Time: 38.245, train loss: 4.301, train accuracy: 0.064, test loss: 4.124, test accuracy: 0.104,\n",
      "Epoch 2. Time: 37.938, train loss: 3.962, train accuracy: 0.166, test loss: 3.798, test accuracy: 0.245,\n",
      "Epoch 3. Time: 37.939, train loss: 3.638, train accuracy: 0.316, test loss: 3.476, test accuracy: 0.395,\n",
      "Epoch 4. Time: 37.944, train loss: 3.317, train accuracy: 0.458, test loss: 3.157, test accuracy: 0.521,\n",
      "Epoch 5. Time: 37.816, train loss: 3.003, train accuracy: 0.592, test loss: 2.850, test accuracy: 0.664,\n",
      "Epoch 6. Time: 37.814, train loss: 2.706, train accuracy: 0.727, test loss: 2.563, test accuracy: 0.783,\n",
      "Epoch 7. Time: 37.871, train loss: 2.430, train accuracy: 0.828, test loss: 2.299, test accuracy: 0.868,\n",
      "Epoch 8. Time: 37.848, train loss: 2.178, train accuracy: 0.899, test loss: 2.061, test accuracy: 0.917,\n",
      "Epoch 9. Time: 38.384, train loss: 1.953, train accuracy: 0.930, test loss: 1.849, test accuracy: 0.943,\n",
      "Epoch 10. Time: 38.401, train loss: 1.752, train accuracy: 0.950, test loss: 1.661, test accuracy: 0.955,\n",
      "Epoch 11. Time: 38.494, train loss: 1.575, train accuracy: 0.957, test loss: 1.496, test accuracy: 0.962,\n",
      "Epoch 12. Time: 38.563, train loss: 1.420, train accuracy: 0.967, test loss: 1.351, test accuracy: 0.971,\n",
      "Epoch 13. Time: 38.562, train loss: 1.284, train accuracy: 0.975, test loss: 1.224, test accuracy: 0.985,\n",
      "Epoch 14. Time: 38.165, train loss: 1.166, train accuracy: 0.994, test loss: 1.113, test accuracy: 1.000,\n",
      "Epoch 15. Time: 38.228, train loss: 1.061, train accuracy: 1.000, test loss: 1.016, test accuracy: 1.000,\n",
      "Epoch 16. Time: 38.091, train loss: 0.970, train accuracy: 1.000, test loss: 0.930, test accuracy: 1.000,\n",
      "Epoch 17. Time: 38.166, train loss: 0.889, train accuracy: 1.000, test loss: 0.855, test accuracy: 1.000,\n",
      "Epoch 18. Time: 38.207, train loss: 0.819, train accuracy: 1.000, test loss: 0.788, test accuracy: 1.000,\n",
      "Epoch 19. Time: 39.877, train loss: 0.756, train accuracy: 1.000, test loss: 0.729, test accuracy: 1.000,\n",
      "Epoch 20. Time: 38.934, train loss: 0.700, train accuracy: 1.000, test loss: 0.677, test accuracy: 1.000,\n"
     ]
    }
   ],
   "source": [
    "simple_rnn.apply(weight_reset)\n",
    "history = defaultdict(lambda: defaultdict(list))\n",
    "for ep in range(20):\n",
    "    start = time.time()\n",
    "    train_loss, test_loss, train_acc, test_acc = 0.,0.,0.,0.\n",
    "    iter_passed = 0\n",
    "    \n",
    "#     for inputs, targets in tqdm(data_loader, desc=desc, leave=False):\n",
    "    simple_rnn.train()\n",
    "    for inputs, targets in train_loader:\n",
    "        inputs  =  inputs.to(device)\n",
    "\n",
    "        optimizer.zero_grad()\n",
    "        answers = simple_rnn(inputs)\n",
    "        answers = answers.view(-1, len(vocab_plus)) # NOT NECESSARY SINCE BATCHES ARE CONCATENATED IN AFTER_RNN LAYER\n",
    "        \n",
    "#         targets = targets.flatten().to(device) # WON'T WORK SINCE TARGETS IS A LIST\n",
    "#         targets = targets.view(1, -1).squeeze() # WON'T WORK SINCE TARGETS IS A LIST\n",
    "        targets = torch.as_tensor([target for batch in targets for target in batch]).to(device)\n",
    "        loss = criterion(answers, targets)\n",
    "        train_loss += loss.item()\n",
    "        \n",
    "        train_acc += (answers.argmax(dim=1) == targets).sum().item()/answers.shape[0]\n",
    "\n",
    "        loss.backward()\n",
    "        optimizer.step()\n",
    "        iter_passed += 1\n",
    "        \n",
    "        torch.cuda.empty_cache()\n",
    "        gc.collect()\n",
    "    \n",
    "    train_acc /= iter_passed\n",
    "    train_loss /= iter_passed\n",
    "    history['loss']['train'].append(train_loss)\n",
    "    history['acc']['train'].append(train_acc)\n",
    "    iter_passed = 0\n",
    "        \n",
    "    simple_rnn.eval()\n",
    "    for inputs, targets in test_loader:\n",
    "        inputs  =  inputs.to(device)\n",
    "\n",
    "        optimizer.zero_grad()\n",
    "        answers = simple_rnn(inputs)\n",
    "        answers = answers.view(-1, len(vocab_plus))\n",
    "        \n",
    "#         targets = targets.flatten().to(device) # WON'T WORK SINCE TARGETS IS A LIST\n",
    "#         targets = targets.view(1, -1).squeeze() # WON'T WORK SINCE TARGETS IS A LIST\n",
    "        targets = torch.as_tensor([target for batch in targets for target in batch]).to(device)\n",
    "        loss = criterion(answers, targets)\n",
    "        test_loss += loss.item()\n",
    "        \n",
    "        test_acc += (answers.argmax(dim=1) == targets).sum().item()/answers.shape[0]\n",
    "\n",
    "        iter_passed += 1\n",
    "        \n",
    "        torch.cuda.empty_cache()\n",
    "        gc.collect()\n",
    "    \n",
    "    test_acc /= iter_passed\n",
    "    test_loss /= iter_passed\n",
    "    history['loss']['val'].append(test_loss)\n",
    "    history['acc']['val'].append(test_acc)\n",
    "\n",
    "    print(\"Epoch {}. Time: {:.3f}, train loss: {:.3f}, train accuracy: {:.3f}, \"\n",
    "          \"test loss: {:.3f}, test accuracy: {:.3f},\".format(ep+1, time.time() - start, \n",
    "                                                               train_loss, train_acc, test_loss, test_acc))\n",
    "dict_strings  = {'dict': history, 'tag': 'with random strings dataset'}"
   ]
  },
  {
   "cell_type": "markdown",
   "id": "e2ac426c",
   "metadata": {},
   "source": [
    "## 6.2 Plot loss and accuracy vs epoch"
   ]
  },
  {
   "cell_type": "code",
   "execution_count": 64,
   "id": "0cc63858",
   "metadata": {},
   "outputs": [
    {
     "data": {
      "image/png": "[encoded data removed]",
      "text/plain": [
       "<Figure size 2000x700 with 2 Axes>"
      ]
     },
     "metadata": {},
     "output_type": "display_data"
    }
   ],
   "source": [
    "# plot_learning_curves(dict_strings['dict'])\n",
    "plot_learning_curves(dict_strings)"
   ]
  },
  {
   "cell_type": "markdown",
   "id": "6ddfdc60",
   "metadata": {},
   "source": [
    "## 6.3 Validate model using the test phrase, defined previously"
   ]
  },
  {
   "cell_type": "code",
   "execution_count": 65,
   "id": "1c1b9b99",
   "metadata": {},
   "outputs": [],
   "source": [
    "with torch.no_grad():\n",
    "# simple_rnn.eval()\n",
    "    res = simple_rnn(pad_and_pack_collate(test_batch)[0].to(device))\n",
    "    res = res.argmax(dim=1).cpu()"
   ]
  },
  {
   "cell_type": "code",
   "execution_count": 66,
   "id": "fcce1bd0",
   "metadata": {},
   "outputs": [
    {
     "name": "stdout",
     "output_type": "stream",
     "text": [
      "Прежде чем задать вопрос, попробуйте найти ответ в интернете. Навык самостоятельного поиска информации — один из важнейших. Каждый практикующий специалист любого уровня делает это ежедневно.\n"
     ]
    }
   ],
   "source": [
    "pred_phrase = \"\".join([anti_vocab_plus[i.item()] for i in res])\n",
    "print(pred_phrase)"
   ]
  },
  {
   "cell_type": "code",
   "execution_count": 67,
   "id": "4037637f",
   "metadata": {},
   "outputs": [
    {
     "data": {
      "text/plain": [
       "True"
      ]
     },
     "execution_count": 67,
     "metadata": {},
     "output_type": "execute_result"
    }
   ],
   "source": [
    "pred_phrase == test_phrase"
   ]
  },
  {
   "cell_type": "markdown",
   "id": "8682c0b4",
   "metadata": {},
   "source": [
    "# 7. Compare model performance when trained on real-language vs artificial datasets"
   ]
  },
  {
   "cell_type": "code",
   "execution_count": 68,
   "id": "d38d12b5",
   "metadata": {},
   "outputs": [
    {
     "data": {
      "image/png": "[encoded data removed]",
      "text/plain": [
       "<Figure size 2000x700 with 2 Axes>"
      ]
     },
     "metadata": {},
     "output_type": "display_data"
    }
   ],
   "source": [
    "plot_learning_curves(dict_strings,dict_proverbs)"
   ]
  },
  {
   "cell_type": "markdown",
   "id": "345e16aa",
   "metadata": {},
   "source": [
    "__Training on randomly generated strings, albeit a little slower, leads to better (maximum possible) accuracy. Training on real-language phrases leads to errors in decrypting capital letters, since there are a lot fewer of them in real language texts.__"
   ]
  }
 ],
 "metadata": {
  "kernelspec": {
   "display_name": "Python 3 (ipykernel)",
   "language": "python",
   "name": "python3"
  },
  "language_info": {
   "codemirror_mode": {
    "name": "ipython",
    "version": 3
   },
   "file_extension": ".py",
   "mimetype": "text/x-python",
   "name": "python",
   "nbconvert_exporter": "python",
   "pygments_lexer": "ipython3",
   "version": "3.10.12"
  }
 },
 "nbformat": 4,
 "nbformat_minor": 5
}
